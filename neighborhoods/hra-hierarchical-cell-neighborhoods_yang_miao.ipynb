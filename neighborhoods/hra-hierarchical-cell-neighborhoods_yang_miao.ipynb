{
 "cells": [
  {
   "cell_type": "markdown",
   "metadata": {},
   "source": [
    "## HRA Hierarchical Tissue Unit Annotation"
   ]
  },
  {
   "cell_type": "markdown",
   "metadata": {},
   "source": [
    "In this notebook, we will build on [an existing one on hierarchical tissue unit annotation](https://github.com/HickeyLab/Hierarchical-Tissue-Unit-Annotation) by [Dr. John Hickey](https://bme.duke.edu/people/john-hickey/). Outputs from this workbook are featured in Fig. 3 in the paper titled \"Human BioMolecular Atlas Program (HuBMAP): 3D Human Reference Atlas Construction and Usage\" (accepted for publication in Nature Methods, see preprint [on bioRxiv](https://doi.org/10.1101/2024.03.27.587041)). In this notebook, we will create a Vasculature Common Coordinate Framework (VCCF) distance visualization for the same donor and region (B006, proximal jejunum) as in the paper, see below.\n",
    "\n",
    "<img src=\"images/fig_3_original.jpg\" width=\"400\">\n"
   ]
  },
  {
   "cell_type": "markdown",
   "metadata": {},
   "source": [
    "Concretely, we will take the original CSV file from Dryad with cell positions, types, donor IDs, and extraction sites, and then create a node-dist-vis widget plus a Cell Distance Explorer widget. For more information and documentation on hra-jupyter-widgets, please see [https://github.com/x-atlas-consortia/hra-jupyter-widgets/blob/main/usage.ipynb](https://github.com/x-atlas-consortia/hra-jupyter-widgets/blob/main/usage.ipynb)."
   ]
  },
  {
   "cell_type": "markdown",
   "metadata": {},
   "source": [
    "## Load libraries"
   ]
  },
  {
   "cell_type": "code",
   "execution_count": 1,
   "metadata": {},
   "outputs": [],
   "source": [
    "# Import native packages\n",
    "import os\n",
    "from pprint import pprint\n",
    "import csv"
   ]
  },
  {
   "cell_type": "code",
   "execution_count": null,
   "metadata": {},
   "outputs": [],
   "source": [
    "#Install and import external packages\n",
    "%pip install matplotlib pandas ipywidgets hra_jupyter_widgets\n",
    "\n",
    "import matplotlib.pyplot as plt\n",
    "import pandas as pd\n",
    "import ipywidgets as widgets\n",
    "\n",
    "# Import hra-jupyter-widgets. For documentation, please see https://github.com/x-atlas-consortia/hra-jupyter-widgets/blob/main/usage.ipynb\n",
    "from hra_jupyter_widgets import (\n",
    "    BodyUi,\n",
    "    CdeVisualization, # in this example, we will use this one...\n",
    "    Eui,\n",
    "    EuiOrganInformation,\n",
    "    FtuExplorer,\n",
    "    FtuExplorerSmall,\n",
    "    MedicalIllustration,\n",
    "    ModelViewer,\n",
    "    NodeDistVis, # ...and this one, but all of them are usable for different purposes!\n",
    "    Rui,\n",
    ")"
   ]
  },
  {
   "cell_type": "markdown",
   "metadata": {},
   "source": [
    "## Download data from Dryad"
   ]
  },
  {
   "cell_type": "markdown",
   "metadata": {},
   "source": [
    "Let's get the data from Dryad. Note that this is a ~3GB file. We will use `curl` to dowload it."
   ]
  },
  {
   "cell_type": "code",
   "execution_count": null,
   "metadata": {},
   "outputs": [],
   "source": [
    "# Make sure the data folder is present\n",
    "folder_path = \"data\"\n",
    "\n",
    "if not os.path.exists(folder_path):\n",
    "    os.makedirs(folder_path)\n",
    "    print(f\"Folder '{folder_path}' created.\")\n",
    "else:\n",
    "    print(f\"Folder '{folder_path}' already exists.\")\n",
    "\n",
    "# Define the path to the file. \n",
    "file_path = f'{folder_path}/23_09_CODEX_HuBMAP_alldata_Dryad_merged.csv'\n",
    "\n",
    "# Check if the file exists\n",
    "if not os.path.exists(file_path):\n",
    "    # If the file doesn't exist, run the curl command\n",
    "    !curl -L https://datadryad.org/api/v2/files/2572152/download -o {file_path}\n",
    "    print(f\"File downloaded and saved at {file_path}\")\n",
    "else:\n",
    "    print(f\"File already exists at {file_path}\")"
   ]
  },
  {
   "cell_type": "markdown",
   "metadata": {},
   "source": [
    "## Read data as DataFrame"
   ]
  },
  {
   "cell_type": "code",
   "execution_count": null,
   "metadata": {},
   "outputs": [],
   "source": [
    "# Read the CSV file and convert it to a df\n",
    "df = pd.read_csv(file_path, index_col=0)\n",
    "df"
   ]
  },
  {
   "cell_type": "code",
   "execution_count": 5,
   "metadata": {},
   "outputs": [],
   "source": [
    "# Only keep cells from one dataset by selecting 1 donor and 1 region\n",
    "df_filtered = df[(df['donor'] == \"B012\") & (\n",
    "    df['unique_region'] == \"B012_Proximal jejunum\")]"
   ]
  },
  {
   "cell_type": "code",
   "execution_count": 6,
   "metadata": {},
   "outputs": [],
   "source": [
    "df_filtered['Cell Type'] = df_filtered['Cell Type'].astype(str) + '_Cell Type'\n",
    "df_filtered['Neighborhood'] = df_filtered['Neighborhood'].astype(str) + '_Neighborhood'\n",
    "df_filtered['Community'] = df_filtered['Community'].astype(str) + '_Community'\n",
    "df_filtered['Tissue Unit'] = df_filtered['Tissue Unit'].astype(str) + '_Tissue Unit'"
   ]
  },
  {
   "cell_type": "code",
   "execution_count": null,
   "metadata": {},
   "outputs": [],
   "source": [
    "df_filtered"
   ]
  },
  {
   "cell_type": "code",
   "execution_count": 8,
   "metadata": {},
   "outputs": [],
   "source": [
    "# Next, let's define a function that turns a DataFrame into a node list that can then be passed into the CdeVisualization or NodeDistVis widget\n",
    "def make_node_list(df:pd.DataFrame, is_3d:bool = False):\n",
    "  \"\"\"Turn a DataFrame into a list of dicts for passing them into a HRA widget\n",
    "\n",
    "  Args:\n",
    "      df (pd.DataFrame): A DataFrame with cells\n",
    "  \"\"\"\n",
    "  \n",
    "  # If the df does not have a z-axis column, let's add one and set all cells to 0\n",
    "  if not is_3d:\n",
    "    df.loc[:, ('z')] = 0\n",
    "  \n",
    "  node_list = [{'x': row['x'], 'y': row['y'], 'z': row['z'], 'level': row['combined_info']}\n",
    "                 for index, row in df.iterrows()]\n",
    "\n",
    "  return node_list\n",
    "  "
   ]
  },
  {
   "cell_type": "code",
   "execution_count": 9,
   "metadata": {},
   "outputs": [],
   "source": [
    "# # Prepare df_cells for visualization with NodeDistVis widget\n",
    "# node_list = make_node_list(df_cells, False)\n",
    "\n",
    "# # Let's inspect the first 5 rows\n",
    "# pprint(node_list[:5])"
   ]
  },
  {
   "cell_type": "markdown",
   "metadata": {},
   "source": [
    "# Nodes and edges test"
   ]
  },
  {
   "cell_type": "code",
   "execution_count": null,
   "metadata": {},
   "outputs": [],
   "source": [
    "'''\n",
    "import csv\n",
    "\n",
    "# Define the path to the CSV file\n",
    "csv_file_path = '/Users/yang/Desktop/3D_visualization/data/CRC01002-nodes.csv'\n",
    "\n",
    "# Initialize an empty list to store the nodes\n",
    "node_list = []\n",
    "\n",
    "# Open the CSV file\n",
    "with open(csv_file_path, mode='r') as file:\n",
    "    # Create a CSV reader object\n",
    "    csv_reader = csv.DictReader(file)\n",
    "    \n",
    "    # Iterate over the rows in the CSV file\n",
    "    for row in csv_reader:\n",
    "        # Append each row (as a dictionary) to the node_list\n",
    "        node_list.append(row)\n",
    "'''"
   ]
  },
  {
   "cell_type": "code",
   "execution_count": 11,
   "metadata": {},
   "outputs": [],
   "source": [
    "# node_list"
   ]
  },
  {
   "cell_type": "code",
   "execution_count": null,
   "metadata": {},
   "outputs": [],
   "source": [
    "'''\n",
    "import csv\n",
    "\n",
    "# Define the path to the CSV file\n",
    "csv_file_path = '/Users/yang/Desktop/3D_visualization/data/CRC01002-edges.csv'\n",
    "\n",
    "# Initialize an empty list to store the nodes\n",
    "edge_list = []\n",
    "\n",
    "# Open the CSV file\n",
    "with open(csv_file_path, mode='r') as file:\n",
    "    # Create a CSV reader object\n",
    "    csv_reader = csv.reader(file)\n",
    "    \n",
    "    # Iterate over the rows in the CSV file\n",
    "    for row in csv_reader:\n",
    "        # Append each row (as a dictionary) to the node_list\n",
    "        edge_list.append(row)\n",
    "'''"
   ]
  },
  {
   "cell_type": "code",
   "execution_count": 13,
   "metadata": {},
   "outputs": [],
   "source": [
    "# edge_list"
   ]
  },
  {
   "cell_type": "code",
   "execution_count": null,
   "metadata": {},
   "outputs": [],
   "source": [
    "'''\n",
    "node_dist_vis = NodeDistVis(\n",
    "    nodes=node_list,\n",
    "    node_target_key=\"Cell Type\",\n",
    "    node_target_value=\"Endothelial\",\n",
    "    edges=edge_list,\n",
    ")\n",
    "display(node_dist_vis)\n",
    "'''"
   ]
  },
  {
   "cell_type": "markdown",
   "metadata": {},
   "source": [
    "# Display"
   ]
  },
  {
   "cell_type": "code",
   "execution_count": 15,
   "metadata": {},
   "outputs": [],
   "source": [
    "# # Finally, let's instantiate the NodeDistVis class with some parameters. We pass in the node_list, indicate Endothelial cells as targets for the edges. \n",
    "# # As we are not supplying an edge list, we need to provide a max_edge_distance, which is set to 1000 (generiously)\n",
    "# node_dist_vis = NodeDistVis(\n",
    "#     nodes = node_list,\n",
    "#     node_target_key=\"Cell Type\",\n",
    "#     node_target_value=\"Endothelial\",\n",
    "#     max_edge_distance = 1000\n",
    "# )\n",
    "\n",
    "# # Display our new widget\n",
    "# display(node_dist_vis)"
   ]
  },
  {
   "cell_type": "markdown",
   "metadata": {},
   "source": [
    "For comparison, here is Fig. 3 from the paper for comparison with the `NodeDistVis` widget above. Note that this figure shows **cell neighborhoods** rather than **cell types** like the `NodeDistVis`:\n",
    "\n",
    "<img src=\"images/fig_3_original.jpg\" width=\"400\">"
   ]
  },
  {
   "cell_type": "markdown",
   "metadata": {},
   "source": [
    "## Next, let's make four regions and visualize a 3D tissue stack."
   ]
  },
  {
   "cell_type": "markdown",
   "metadata": {},
   "source": [
    "To showcase the 3D rendering capabilities of our `CDEVisualization` widget, we will display the same section as we showed with the `NodeDistVis` widget above, but we will show it three times with an added offset along the z-axis."
   ]
  },
  {
   "cell_type": "code",
   "execution_count": null,
   "metadata": {},
   "outputs": [],
   "source": [
    "df_filtered"
   ]
  },
  {
   "cell_type": "code",
   "execution_count": 17,
   "metadata": {},
   "outputs": [],
   "source": [
    "# Create a new data frame with values from the NodeDistVis example\n",
    "df = df_filtered\n",
    "\n",
    "# indicate the number of layers you would like to show. In our case, let's show 3.\n",
    "n_layers = 4   # One layer for cell type, one for neighborhood, one for community, one for tissue unit\n",
    "\n",
    "# Create a list to hold all the data frames\n",
    "df_list = [df]\n",
    "\n",
    "for i in range(0, n_layers-1):\n",
    "\n",
    "  # Create a copy of this new DataFrame\n",
    "  df_copy = df.copy()\n",
    "\n",
    "  # Modify a column in the copied rows (e.g., change values in column 'B')\n",
    "  df_copy['unique_region'] = f'copy_{i}'  \n",
    "\n",
    "  # Add df_copy to list of df\n",
    "  df_list.append(df_copy)\n",
    "  \n",
    "# Concatenate the original DataFrame with the modified copies\n",
    "df_combined = pd.concat(df_list, ignore_index=True)\n",
    "\n",
    "df_filtered_3d = df_combined"
   ]
  },
  {
   "cell_type": "code",
   "execution_count": 18,
   "metadata": {},
   "outputs": [],
   "source": [
    "# Set a z-offset\n",
    "offset = 2500\n",
    "\n",
    "# Set z axis (or any other axis) by region\n",
    "df_filtered_3d['z'] = df_filtered_3d['unique_region'].apply(lambda v: 0 if v == 'B012_Proximal jejunum'\n",
    "                                                            else offset if v == 'copy_0'\n",
    "                                                            else offset * 2 if v == 'copy_1'\n",
    "                                                            else offset * 3\n",
    "                                                            )\n",
    "\n",
    "# Make new df with only x, y, z, Cell Type, and Neighborhood columns\n",
    "df_cells_3d = df_filtered_3d[['x', 'y', 'z', 'Cell Type', 'Neighborhood', 'Community', 'Tissue Unit']]\n",
    "\n",
    "cell_type_z0 = df_cells_3d[df_cells_3d['z'] == 0]['Cell Type']\n",
    "neighborhood_z1 = df_cells_3d[df_cells_3d['z'] == offset]['Neighborhood']\n",
    "community_z2 = df_cells_3d[df_cells_3d['z'] == offset *2]['Community']\n",
    "tissueunit_z3 = df_cells_3d[df_cells_3d['z'] == offset *3]['Tissue Unit']\n",
    "\n",
    "combined_info = pd.concat([cell_type_z0, neighborhood_z1, community_z2, tissueunit_z3])\n",
    "\n",
    "df_cells_3d['combined_info'] = combined_info\n"
   ]
  },
  {
   "cell_type": "code",
   "execution_count": null,
   "metadata": {},
   "outputs": [],
   "source": [
    "len(df_cells_3d['combined_info'].unique())"
   ]
  },
  {
   "cell_type": "code",
   "execution_count": null,
   "metadata": {},
   "outputs": [],
   "source": [
    "df_cells_3d"
   ]
  },
  {
   "cell_type": "code",
   "execution_count": 21,
   "metadata": {},
   "outputs": [],
   "source": [
    "df_cells_3d_filtered = df_cells_3d[['x', 'y', 'z', 'combined_info']]"
   ]
  },
  {
   "cell_type": "code",
   "execution_count": 22,
   "metadata": {},
   "outputs": [],
   "source": [
    "# Prepare df_cells_3d for visualization with CdeVisualization widget\n",
    "node_list = make_node_list(df_cells_3d_filtered, True)\n",
    "\n",
    "# # Let's inspect the first 5 rows\n",
    "# pprint(node_list[:5])\n",
    "\n",
    "# for n in node_list:\n",
    "#     print(n['level'])"
   ]
  },
  {
   "cell_type": "markdown",
   "metadata": {},
   "source": [
    "# Nodes and edges list construction"
   ]
  },
  {
   "cell_type": "code",
   "execution_count": 23,
   "metadata": {},
   "outputs": [],
   "source": [
    "# Filter the DataFrame where the content in the 'combined_info' column is the level name interested\n",
    "edge_df = df_cells_3d_filtered[df_cells_3d_filtered['combined_info'] == 'Plasma Cell Enriched_Neighborhood']\n",
    "\n",
    "# Select the 'x', 'y', and 'z' columns from the filtered DataFrame\n",
    "edge_df_filtered = edge_df[['x', 'y', 'z', 'combined_info']]\n"
   ]
  },
  {
   "cell_type": "code",
   "execution_count": 24,
   "metadata": {},
   "outputs": [],
   "source": [
    "# Extract the corresponding information in the cell types\n",
    "edge_index = edge_df_filtered.index - len(df_filtered)\n",
    "edge_df_2 = df_cells_3d_filtered.iloc[edge_index]"
   ]
  },
  {
   "cell_type": "code",
   "execution_count": 25,
   "metadata": {},
   "outputs": [],
   "source": [
    "edge_df_filtered = edge_df[['x', 'y', 'z']]\n",
    "edge_df_2_filtered = edge_df_2[['x', 'y', 'z']]\n",
    "edge_df_filtered = edge_df_filtered.reset_index(drop=True)\n",
    "edge_df_2_filtered = edge_df_2_filtered.reset_index(drop=True)"
   ]
  },
  {
   "cell_type": "code",
   "execution_count": 26,
   "metadata": {},
   "outputs": [],
   "source": [
    "# Combine the selected columns horizontally\n",
    "edge_list_df = pd.concat([edge_df_filtered, edge_df_2_filtered], axis=1)\n",
    "\n",
    "edge_list_df = edge_list_df.reset_index(drop=False)\n",
    "\n",
    "# Convert the DataFrame to a list of lists with each value as a string\n",
    "edge_list = edge_list_df.astype(str).values.tolist()"
   ]
  },
  {
   "cell_type": "code",
   "execution_count": null,
   "metadata": {},
   "outputs": [],
   "source": [
    "edge_list"
   ]
  },
  {
   "cell_type": "markdown",
   "metadata": {},
   "source": [
    "# Display"
   ]
  },
  {
   "cell_type": "code",
   "execution_count": null,
   "metadata": {},
   "outputs": [],
   "source": [
    "# Finally, let's instantiate the CDEVisualization class with our node_list as parameter.\n",
    "cde = CdeVisualization(\n",
    "    nodes=node_list,\n",
    "    node_target_key = \"level\",\n",
    "    #node_target_value = \"Enterocyte_Cell Type\",\n",
    "    edges=edge_list,\n",
    ")\n",
    "\n",
    "# Display our new widget\n",
    "display(cde)"
   ]
  },
  {
   "cell_type": "code",
   "execution_count": null,
   "metadata": {},
   "outputs": [],
   "source": []
  }
 ],
 "metadata": {
  "kernelspec": {
   "display_name": ".venv",
   "language": "python",
   "name": "python3"
  },
  "language_info": {
   "codemirror_mode": {
    "name": "ipython",
    "version": 3
   },
   "file_extension": ".py",
   "mimetype": "text/x-python",
   "name": "python",
   "nbconvert_exporter": "python",
   "pygments_lexer": "ipython3",
   "version": "3.12.4"
  }
 },
 "nbformat": 4,
 "nbformat_minor": 2
}
