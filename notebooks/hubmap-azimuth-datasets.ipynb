{
 "cells": [
  {
   "cell_type": "markdown",
   "metadata": {},
   "source": [
    "# HuBMAP Azimuth Datasets"
   ]
  },
  {
   "cell_type": "markdown",
   "metadata": {},
   "source": [
    "Find all HuBMAP datasets with Cell Ontology annotated cells via Azimuth with the Cells API, then compute some statistics."
   ]
  },
  {
   "cell_type": "markdown",
   "metadata": {},
   "source": [
    "# Install libraries"
   ]
  },
  {
   "cell_type": "code",
   "execution_count": 1,
   "metadata": {},
   "outputs": [
    {
     "name": "stdout",
     "output_type": "stream",
     "text": [
      "Requirement already satisfied: hubmap_api_py_client in /u/bherr/workspaces/hubmap/hra-notebooks/.venv/lib/python3.10/site-packages (0.0.11)\n",
      "Requirement already satisfied: requests>=2.0.0 in /u/bherr/workspaces/hubmap/hra-notebooks/.venv/lib/python3.10/site-packages (from hubmap_api_py_client) (2.32.3)\n",
      "Requirement already satisfied: charset-normalizer<4,>=2 in /u/bherr/workspaces/hubmap/hra-notebooks/.venv/lib/python3.10/site-packages (from requests>=2.0.0->hubmap_api_py_client) (3.4.0)\n",
      "Requirement already satisfied: idna<4,>=2.5 in /u/bherr/workspaces/hubmap/hra-notebooks/.venv/lib/python3.10/site-packages (from requests>=2.0.0->hubmap_api_py_client) (3.10)\n",
      "Requirement already satisfied: certifi>=2017.4.17 in /u/bherr/workspaces/hubmap/hra-notebooks/.venv/lib/python3.10/site-packages (from requests>=2.0.0->hubmap_api_py_client) (2024.8.30)\n",
      "Requirement already satisfied: urllib3<3,>=1.21.1 in /u/bherr/workspaces/hubmap/hra-notebooks/.venv/lib/python3.10/site-packages (from requests>=2.0.0->hubmap_api_py_client) (2.0.7)\n"
     ]
    }
   ],
   "source": [
    "!pip install --upgrade hubmap_api_py_client"
   ]
  },
  {
   "cell_type": "markdown",
   "metadata": {},
   "source": [
    "# Part 1: Get Cell Populations from HuBMAP Datasets using the Cells API"
   ]
  },
  {
   "cell_type": "markdown",
   "metadata": {},
   "source": [
    "Imports / functions"
   ]
  },
  {
   "cell_type": "code",
   "execution_count": 2,
   "metadata": {},
   "outputs": [],
   "source": [
    "from hubmap_api_py_client import Client\n",
    "from collections import Counter"
   ]
  },
  {
   "cell_type": "markdown",
   "metadata": {},
   "source": [
    "Setup the HuBMAP Cells API Client"
   ]
  },
  {
   "cell_type": "code",
   "execution_count": 3,
   "metadata": {},
   "outputs": [],
   "source": [
    "\n",
    "endpoint_url = \"https://cells.api.hubmapconsortium.org/api/\"\n",
    "client = Client(endpoint_url) "
   ]
  },
  {
   "cell_type": "markdown",
   "metadata": {},
   "source": [
    "Find cell types that have annotated datasets"
   ]
  },
  {
   "cell_type": "code",
   "execution_count": 4,
   "metadata": {},
   "outputs": [
    {
     "name": "stdout",
     "output_type": "stream",
     "text": [
      "cell types: 63\n"
     ]
    }
   ],
   "source": [
    "all_celltypes = client.select_celltypes()\n",
    "assert len(all_celltypes) > 0\n",
    "\n",
    "celltypes = [c[\"grouping_name\"] for c in all_celltypes.get_list()]\n",
    "print('cell types:', len(celltypes))"
   ]
  },
  {
   "cell_type": "markdown",
   "metadata": {},
   "source": [
    "Find all datasets that have been annotated with cell types"
   ]
  },
  {
   "cell_type": "code",
   "execution_count": 5,
   "metadata": {},
   "outputs": [
    {
     "name": "stdout",
     "output_type": "stream",
     "text": [
      "annotated datasets with cell types: 45\n"
     ]
    }
   ],
   "source": [
    "datasets = client.select_datasets(where='celltype', has=celltypes).get_list()\n",
    "assert len(datasets) > 0\n",
    "\n",
    "uuids = [ d['uuid'] for d in datasets ]\n",
    "print('annotated datasets with cell types:', len(datasets))"
   ]
  },
  {
   "cell_type": "markdown",
   "metadata": {},
   "source": [
    "Get cells for each annotated dataset"
   ]
  },
  {
   "cell_type": "code",
   "execution_count": 6,
   "metadata": {},
   "outputs": [],
   "source": [
    "dataset_cells = {}\n",
    "dataset_organ = {}\n",
    "dataset_modality = {}\n",
    "\n",
    "for uuid in uuids:\n",
    "    cells_in_dataset = client.select_cells(where='dataset', has=[uuid])\n",
    "    all_cells = cells_in_dataset.get_list().results_set.get_list()\n",
    "\n",
    "    population = Counter()\n",
    "    for cell in all_cells:\n",
    "        population[cell['cell_type']] += 1\n",
    "        dataset_organ[uuid] = cell['organ'].lower()\n",
    "        dataset_modality[uuid] = cell['modality']\n",
    "\n",
    "    dataset_cells[uuid] = population"
   ]
  },
  {
   "cell_type": "markdown",
   "metadata": {},
   "source": [
    "Show raw data results for one dataset"
   ]
  },
  {
   "cell_type": "code",
   "execution_count": 7,
   "metadata": {},
   "outputs": [
    {
     "name": "stdout",
     "output_type": "stream",
     "text": [
      "007f3dfaaa287d5c7c227651f61a9c5b top cell types: [('CL:0000057', 1868), ('CL:0000235', 621), ('CL:0002131', 532), ('CL:0002144', 310), ('CL:0000763', 273)]\n",
      "007f3dfaaa287d5c7c227651f61a9c5b organ: heart\n",
      "007f3dfaaa287d5c7c227651f61a9c5b modality: rna\n"
     ]
    }
   ],
   "source": [
    "print(uuids[0], 'top cell types:', dataset_cells[uuids[0]].most_common(5))\n",
    "print(uuids[0], 'organ:', dataset_organ[uuids[0]])\n",
    "print(uuids[0], 'modality:', dataset_modality[uuids[0]])"
   ]
  },
  {
   "cell_type": "code",
   "execution_count": 11,
   "metadata": {},
   "outputs": [
    {
     "data": {
      "text/plain": [
       "367400"
      ]
     },
     "execution_count": 11,
     "metadata": {},
     "output_type": "execute_result"
    }
   ],
   "source": [
    "sum(( sum(pop.values()) for pop in dataset_cells.values() ))\n"
   ]
  },
  {
   "cell_type": "code",
   "execution_count": 12,
   "metadata": {},
   "outputs": [
    {
     "data": {
      "text/plain": [
       "{'rna'}"
      ]
     },
     "execution_count": 12,
     "metadata": {},
     "output_type": "execute_result"
    }
   ],
   "source": [
    "set(dataset_modality.values())"
   ]
  }
 ],
 "metadata": {
  "kernelspec": {
   "display_name": ".venv",
   "language": "python",
   "name": "python3"
  },
  "language_info": {
   "codemirror_mode": {
    "name": "ipython",
    "version": 3
   },
   "file_extension": ".py",
   "mimetype": "text/x-python",
   "name": "python",
   "nbconvert_exporter": "python",
   "pygments_lexer": "ipython3",
   "version": "3.10.12"
  }
 },
 "nbformat": 4,
 "nbformat_minor": 4
}
