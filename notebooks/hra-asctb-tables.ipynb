{
 "cells": [
  {
   "cell_type": "markdown",
   "metadata": {},
   "source": [
    "# Getting HRA ASCT+B Table data\n"
   ]
  },
  {
   "cell_type": "markdown",
   "metadata": {},
   "source": [
    "This notebook exemplarily retrieves the most recent versions of all ASCT+B tables in the latest hra collection in the JSON format, which is one of the most widely used data exchange formats, and that can be read by almost every modern programming language. It then selects the table for the kidney. It then inspects the kidney table by outputting the number of rows, and finally prints a small selection of AS, CT, gene Bs, and scientific references for a particular AS-CT-B record. "
   ]
  },
  {
   "cell_type": "code",
   "execution_count": 1,
   "metadata": {},
   "outputs": [
    {
     "name": "stdout",
     "output_type": "stream",
     "text": [
      "Requirement already satisfied: requests in c:\\users\\abueckle\\documents\\github\\hra-notebooks\\.venv\\lib\\site-packages (2.32.3)\n",
      "Requirement already satisfied: charset-normalizer<4,>=2 in c:\\users\\abueckle\\documents\\github\\hra-notebooks\\.venv\\lib\\site-packages (from requests) (3.4.0)\n",
      "Requirement already satisfied: idna<4,>=2.5 in c:\\users\\abueckle\\documents\\github\\hra-notebooks\\.venv\\lib\\site-packages (from requests) (3.10)\n",
      "Requirement already satisfied: urllib3<3,>=1.21.1 in c:\\users\\abueckle\\documents\\github\\hra-notebooks\\.venv\\lib\\site-packages (from requests) (2.2.3)\n",
      "Requirement already satisfied: certifi>=2017.4.17 in c:\\users\\abueckle\\documents\\github\\hra-notebooks\\.venv\\lib\\site-packages (from requests) (2024.8.30)\n",
      "Note: you may need to restart the kernel to use updated packages.\n"
     ]
    }
   ],
   "source": [
    "# Install pre-requisite libraries\n",
    "%pip install requests"
   ]
  },
  {
   "cell_type": "markdown",
   "metadata": {},
   "source": [
    "## Imports / functions\n"
   ]
  },
  {
   "cell_type": "code",
   "execution_count": 2,
   "metadata": {},
   "outputs": [],
   "source": [
    "import requests\n",
    "\n",
    "\n",
    "def fetch_json(purl):\n",
    "    response = requests.get(purl, headers={\"Accept\": \"application/json\"})\n",
    "    response.raise_for_status()\n",
    "    return response.json()\n",
    "\n",
    "\n",
    "def is_asctb_table(purl):\n",
    "    return (\n",
    "        purl.startswith(\"https://purl.humanatlas.io/asct-b/\")\n",
    "        and \"crosswalk\" not in purl\n",
    "    )\n",
    "\n",
    "\n",
    "def get_latest_asctb_data():\n",
    "    hra_collection = fetch_json(\"https://purl.humanatlas.io/collection/hra\")\n",
    "    digital_objects = hra_collection[\"metadata\"][\"had_member\"]\n",
    "    tables = {}\n",
    "    for purl in sorted(filter(is_asctb_table, digital_objects)):\n",
    "        table_name = purl.split(\"/\")[-2].replace('-', '_')\n",
    "        table_data = fetch_json(purl)\n",
    "        table_rows = table_data[\"data\"][\"asctb_record\"]\n",
    "        tables[table_name] = table_rows\n",
    "    return tables"
   ]
  },
  {
   "cell_type": "markdown",
   "metadata": {},
   "source": [
    "## Get the latest HRA ASCT+B table data\n"
   ]
  },
  {
   "cell_type": "code",
   "execution_count": 3,
   "metadata": {},
   "outputs": [
    {
     "name": "stdout",
     "output_type": "stream",
     "text": [
      "Fetched 33 ASCT+B tables\n"
     ]
    }
   ],
   "source": [
    "tables = get_latest_asctb_data()\n",
    "print(\"Fetched\", len(tables), \"ASCT+B tables\")"
   ]
  },
  {
   "cell_type": "markdown",
   "metadata": {},
   "source": [
    "## Inspect the Kidney table\n"
   ]
  },
  {
   "cell_type": "code",
   "execution_count": 4,
   "metadata": {},
   "outputs": [
    {
     "name": "stdout",
     "output_type": "stream",
     "text": [
      "The kidney table has 78 rows\n"
     ]
    }
   ],
   "source": [
    "kidney = tables[\"kidney\"]\n",
    "print(\"The kidney table has\", len(kidney), \"rows\")"
   ]
  },
  {
   "cell_type": "code",
   "execution_count": 5,
   "metadata": {},
   "outputs": [
    {
     "name": "stdout",
     "output_type": "stream",
     "text": [
      "1st Row of Kidney Table\n",
      "\n",
      "Anatomical Structures:\n",
      "['UBERON:0002113 (kidney)', 'UBERON:0002015 (kidney capsule)']\n",
      "\n",
      "Cell Types:\n",
      "['CL:0000499 (stromal cell)', 'ASCTB-TEMP:capsule-mesenchymal-stromal-cell (capsule mesenchymal stromal cell)']\n",
      "\n",
      "Gene Biomarkers:\n",
      "['HGNC:3802 (Foxd1)', 'HGNC:1975 (VSX2)']\n",
      "\n",
      "References:\n",
      "['https://doi.org/10.1371/journal.pone.0187118']\n"
     ]
    }
   ],
   "source": [
    "\n",
    "def format_term(str):\n",
    "    return str.replace(\"https://purl.org/ccf/ASCTB-TEMP_\", \"ASCTB-TEMP:\")\n",
    "\n",
    "\n",
    "def simple_list(elts):\n",
    "    return [f'{format_term(x[\"source_concept\"])} ({x[\"ccf_pref_label\"]})' for x in elts]\n",
    "\n",
    "\n",
    "print(\"1st Row of Kidney Table\")\n",
    "record = kidney[0]\n",
    "\n",
    "print(\"\\nAnatomical Structures:\")\n",
    "print(simple_list(record[\"anatomical_structure_list\"]))\n",
    "\n",
    "print(\"\\nCell Types:\")\n",
    "print(simple_list(record[\"cell_type_list\"]))\n",
    "\n",
    "print(\"\\nGene Biomarkers:\")\n",
    "print(simple_list(record.get(\"gene_marker_list\", [])))\n",
    "\n",
    "print(\"\\nReferences:\")\n",
    "print(record[\"references\"])"
   ]
  }
 ],
 "metadata": {
  "kernelspec": {
   "display_name": ".venv",
   "language": "python",
   "name": "python3"
  },
  "language_info": {
   "codemirror_mode": {
    "name": "ipython",
    "version": 3
   },
   "file_extension": ".py",
   "mimetype": "text/x-python",
   "name": "python",
   "nbconvert_exporter": "python",
   "pygments_lexer": "ipython3",
   "version": "3.12.4"
  }
 },
 "nbformat": 4,
 "nbformat_minor": 2
}
